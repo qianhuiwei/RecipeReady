{
 "cells": [
  {
   "cell_type": "code",
   "execution_count": 1,
   "metadata": {},
   "outputs": [],
   "source": [
    "# imports and setup\n",
    "import nltk\n",
    "import numpy as np\n",
    "import sklearn\n",
    "import sklearn2pmml\n",
    "import sklearn_pandas\n",
    "import joblib\n",
    "import pandas\n",
    "from sklearn import svm\n",
    "from sklearn.model_selection import cross_val_score\n",
    "from sklearn.model_selection import train_test_split\n",
    "\n",
    "import matplotlib.pyplot as plt\n",
    "%matplotlib inline\n",
    "plt.rcParams['figure.figsize'] = (15, 9)\n",
    "plt.style.use('ggplot')"
   ]
  },
  {
   "cell_type": "markdown",
   "metadata": {},
   "source": [
    "1. carrot, cooked rice, fresh ginger, hoisin sauce, reduced sodium soy sauce, rice vinegar, salmon, scallions, shiitake mushroom caps, sugar snap peas\\\n",
    "2. dill pickle relish, dill weed, haddock fillets, lemon juice, lemons, mayonnaise, onion, pimientos, sugar\\\n",
    "3. bay leaves, bell pepper, cream, flat-leaf parsley, haddock, leek, milk, mustard, onion, potatoes, salt\\\n",
    "4. black pepper, celery root, fresh parsley, haddock, heavy cream, onions, potatoes, salt, unsalted butter, whole milk\\\n",
    "5. cilantro, garlic cloves, haddock fillets, onion, salt and pepper, spices\\\n",
    "6. bay leaves, butter beans, coconut milk, fresh thyme, garlic, leeks, lemon zest, olive oil, sea-salt, smoked haddock, vegetable stock\\\n",
    "7. canola oil, fresh herbs, green onion, ground pepper, haddock, kosher salt, lemon\\\n",
    "8. eggs, haddock, lemon juice, lemons, milk, mustard, parsley, potatoes, ritz crackers, smoked haddock\\\n",
    "9. black pepper, celery, clam juice, dried tarragon, dried thyme, dry white wine, fennel seeds, fresh flat-leaf\\ parsley, garlic clove, grouper, leek, littleneck clams, lobster tail, mussels, olive oil, onion, pernod, plum tomato, saffron threads, shrimp, tomato juice\n",
    "10. arborio rice, bay leaves, chicken, chicken stock, clams, dry white wine, garlic, ground pepper, italian sausage, lemons, monkfish filet, mussels, olive oil, onion, peas, pork loin, red bell pepper, saffron threads, shrimp, squid, tomatoes\\\n",
    "11. chicken stock, double cream, eggs, haddock, parsley, spinach, wholegrain mustard\\\n",
    "12. celery, clam juice, dried tarragon, dried thyme, dry white wine, fennel seed, fresh flat-leaf parsley, garlic clove, ground pepper, grouper, leek, littleneck clams, lobster tails, mussels, olive oil, onion, plum tomato, saffron, sambuca romana, shrimp, tomato juice\\\n",
    "13. cayenne, cooking oil, flour, fresh cilantro, fresh parsley leaves, garlic, ground cumin, halibut, lemon juice, paprika, salt and pepper, vegetable oil\\\n",
    "14. butter, flour, ground mustard, ground pepper, haddock fillets, half n half cream, heavy cream, monterey jack cheese, onion, paprika, salt, sharp cheddar cheese\\\n",
    "15. bay leaf, butter, by jeanne on may 17, cheddar cheese, chives, double cream, fish, fresh dill, haddock, it seems i spoke too soon, milk, plain flour, potatoes, prawns, salmon, summer squash, white wine, whole peppercorns\n",
    "16. breadcrumbs, potato, scallion, smoked salmon\\\n",
    "17. capers, crushed tomatoes, feta cheese, fresh parsley, garlic cloves, grouper fillets, kalamata olive, olive oil, onion, red bell pepper, white wine, yellow bell pepper\\\n",
    "18. basil, canned tomatoes, capers, garlic cloves, haddock, olive oil, olives\\\n",
    "19. black pepper, bread crumbs, broccoli, butter, cauliflower, dried basil, dried rosemary, flour, marinara sauce, milk, olive oil, parmesan cheese, ricotta cheese\\\n",
    "20. banana shallots, bay leaf, black peppercorns, butte, coriander seeds, curry powder, dry breadcrumbs, dry white wine, eggs, fish stock, haddock fillets, lemon, mayonnaise, milk, rapeseed oil, ras el hanout, risotto rice, salad mix, sea-salt\\"
   ]
  },
  {
   "cell_type": "code",
   "execution_count": 2,
   "metadata": {},
   "outputs": [],
   "source": [
    "# r1 = ['carrot', 'cooked rice', 'fresh ginger', 'hoisin sauce', 'reduced sodium soy sauce', 'rice vinegar', 'salmon', 'scallions', 'shiitake mushroom caps', 'sugar snap peas']\n",
    "# r2 = ['dill pickle relish', 'dill weed', 'haddock fillets', 'lemon juice', 'lemons, mayonnaise', 'onion, pimientos', 'sugar']\n",
    "# r3 = ['bay leaves', 'bell pepper', 'cream', 'flat-leaf parsley', 'haddock', 'leek', 'milk', 'mustard', 'onion', 'potatoes', 'salt']\n",
    "# r4 = ['black pepper', 'celery root', 'fresh parsley', 'haddock', 'heavy cream', 'onions', 'potatoes', 'salt', 'unsalted butter', 'whole milk']\n",
    "# r5 = ['cilantro', 'garlic cloves', 'haddock fillets', 'onion', 'salt and pepper', 'spices']"
   ]
  },
  {
   "cell_type": "code",
   "execution_count": 3,
   "metadata": {},
   "outputs": [],
   "source": [
    "# r1[0:]"
   ]
  },
  {
   "cell_type": "code",
   "execution_count": 4,
   "metadata": {},
   "outputs": [],
   "source": [
    "# r2[0:]"
   ]
  },
  {
   "cell_type": "code",
   "execution_count": 5,
   "metadata": {},
   "outputs": [],
   "source": [
    "# r3[0:]"
   ]
  },
  {
   "cell_type": "code",
   "execution_count": 6,
   "metadata": {},
   "outputs": [],
   "source": [
    "# r4[0:]"
   ]
  },
  {
   "cell_type": "code",
   "execution_count": 7,
   "metadata": {},
   "outputs": [],
   "source": [
    "# r5[0:]"
   ]
  },
  {
   "cell_type": "code",
   "execution_count": 8,
   "metadata": {},
   "outputs": [],
   "source": [
    "# y = [1,2,3,4,5]\n",
    "# # all ingredients\n",
    "# r_words_all = [\n",
    "#     'carrot', 'cooked rice', 'fresh ginger', 'hoisin sauce', 'reduced sodium soy sauce', 'rice vinegar', 'salmon', 'scallions', 'shiitake mushroom caps', 'sugar snap peas',\n",
    "#     'dill pickle relish', 'dill weed', 'haddock fillets', 'lemon juice', 'lemons, mayonnaise', 'onion, pimientos', 'sugar',\n",
    "#     'bay leaves', 'bell pepper', 'cream', 'flat-leaf parsley', 'haddock', 'leek', 'milk', 'mustard', 'onion', 'potatoes', 'salt',\n",
    "#     'black pepper', 'celery root', 'fresh parsley', 'haddock', 'heavy cream', 'onions', 'potatoes', 'salt', 'unsalted butter', 'whole milk',\n",
    "#     'cilantro', 'garlic cloves', 'haddock fillets', 'onion', 'salt and pepper', 'spices'\n",
    "# ]\n",
    "\n",
    "# # list of recipes with its ingredients (list of list)\n",
    "# r_words = [\n",
    "# ['carrot', 'cooked rice', 'fresh ginger', 'hoisin sauce', 'reduced sodium soy sauce', 'rice vinegar', 'salmon', 'scallions', 'shiitake mushroom caps', 'sugar snap peas'],\n",
    "# ['dill pickle relish', 'dill weed', 'haddock fillets', 'lemon juice', 'lemons, mayonnaise', 'onion, pimientos', 'sugar'],\n",
    "# ['bay leaves', 'bell pepper', 'cream', 'flat-leaf parsley', 'haddock', 'leek', 'milk', 'mustard', 'onion', 'potatoes', 'salt'],\n",
    "# ['black pepper', 'celery root', 'fresh parsley', 'haddock', 'heavy cream', 'onions', 'potatoes', 'salt', 'unsalted butter', 'whole milk'],\n",
    "# ['cilantro', 'garlic cloves', 'haddock fillets', 'onion', 'salt and pepper', 'spices']]\n",
    "# print(type(r_words))\n",
    "# print(len(r_words_all))"
   ]
  },
  {
   "cell_type": "code",
   "execution_count": 9,
   "metadata": {},
   "outputs": [],
   "source": [
    "# first 10 words of the third document\n",
    "# r_words[2][1:10]"
   ]
  },
  {
   "cell_type": "code",
   "execution_count": 10,
   "metadata": {},
   "outputs": [],
   "source": [
    "# # find the most common ingredients with occurence\n",
    "# most_common_recipe = nltk.FreqDist(w.lower() for w in r_words_all).most_common(10)\n",
    "# print(most_common_recipe)"
   ]
  },
  {
   "cell_type": "code",
   "execution_count": 11,
   "metadata": {},
   "outputs": [],
   "source": [
    "# # # remove stopwords\n",
    "# # filtered_words = [word_tuple for word_tuple in most_common_recipe if word_tuple[0].lower() not in stopwords]\n",
    "# # # remove punctuation marks\n",
    "# # filtered_words = [word_tuple for word_tuple in filtered_words if word_tuple[0].isalpha()]\n",
    "# # print(len(filtered_words))\n",
    "# # print(filtered_words[0:50])\n",
    "\n",
    "# # word_features =  [word_tuple[0] for word_tuple in filtered_words]\n",
    "\n",
    "# # get the most common ingredients (without occurence)\n",
    "# word_features =  [word_tuple[0] for word_tuple in most_common_recipe]\n",
    "# len(word_features)\n",
    "# print(word_features)"
   ]
  },
  {
   "cell_type": "code",
   "execution_count": 12,
   "metadata": {},
   "outputs": [],
   "source": [
    "# function that takes a document and returns a list of zeros and ones indicating which of the words in word_features appears in that document.\n",
    "def document_features(common_words, document_words):\n",
    "    features = np.zeros(len(common_words))\n",
    "    for i, word in enumerate(common_words):\n",
    "        features[i] = (word in document_words)\n",
    "    return features"
   ]
  },
  {
   "cell_type": "code",
   "execution_count": 13,
   "metadata": {},
   "outputs": [],
   "source": [
    "# mpFeatures = document_features(r_words_all, r1)\n",
    "# print(mpFeatures)"
   ]
  },
  {
   "cell_type": "code",
   "execution_count": 14,
   "metadata": {},
   "outputs": [],
   "source": [
    "# # find which ingredients in this recipe are common words\n",
    "# inds = np.where(mpFeatures == 1)[0]\n",
    "# print('\\n', [r_words_all[i] for i in inds])"
   ]
  },
  {
   "cell_type": "code",
   "execution_count": 15,
   "metadata": {},
   "outputs": [],
   "source": [
    "# # build our feature set for all the recipes. (list of list)\n",
    "# X = np.zeros([len(r_words),len(r_words_all)])\n",
    "# for i in range(len(r_words)):\n",
    "#     X[i,:] = document_features(r_words_all, r_words[i])\n",
    "\n",
    "# X[0:5]"
   ]
  },
  {
   "cell_type": "code",
   "execution_count": 16,
   "metadata": {},
   "outputs": [],
   "source": [
    "# X.shape"
   ]
  },
  {
   "cell_type": "code",
   "execution_count": 17,
   "metadata": {},
   "outputs": [],
   "source": [
    "# # train svm model\n",
    "# model = svm.SVC(kernel='rbf', C=20)\n",
    "# # scores = cross_val_score(model, X, y, cv=3)\n",
    "# # print(scores)\n",
    "# model.fit(X, y)"
   ]
  },
  {
   "cell_type": "code",
   "execution_count": 18,
   "metadata": {},
   "outputs": [],
   "source": [
    "# X[0:5]"
   ]
  },
  {
   "cell_type": "code",
   "execution_count": 19,
   "metadata": {},
   "outputs": [],
   "source": [
    "# mod_squad = [X[3]]\n",
    "# mod_squad\n",
    "# # print(type(mod_squad))"
   ]
  },
  {
   "cell_type": "code",
   "execution_count": 20,
   "metadata": {},
   "outputs": [],
   "source": [
    "# model.predict(mod_squad)"
   ]
  },
  {
   "cell_type": "code",
   "execution_count": 21,
   "metadata": {},
   "outputs": [],
   "source": [
    "# # testing set\n",
    "# fridge1 = [[1., 1., 1., 1., 1., 1., 1., 1., 1., 1., 0., 0., 0., 0., 0., 0.,\n",
    "#         0., 0., 0., 0., 0., 0., 0., 0., 0., 0., 0., 0., 0., 0., 0., 0.,\n",
    "#         0., 0., 0., 0., 0., 0., 0., 0., 0., 0., 0., 0.]]\n",
    "# model.predict(fridge1)"
   ]
  },
  {
   "cell_type": "code",
   "execution_count": 22,
   "metadata": {},
   "outputs": [],
   "source": [
    "# prop = model.decision_function(fridge1) \n",
    "# print(prop)\n",
    "# print(type(prop))"
   ]
  },
  {
   "cell_type": "code",
   "execution_count": 23,
   "metadata": {},
   "outputs": [],
   "source": [
    "# best_n = np.argsort(prop, axis=1)[:,-5:]\n",
    "# print(best_n)         "
   ]
  },
  {
   "cell_type": "code",
   "execution_count": null,
   "metadata": {},
   "outputs": [],
   "source": []
  },
  {
   "cell_type": "code",
   "execution_count": 24,
   "metadata": {},
   "outputs": [],
   "source": [
    "y = [1,2,3,4,5,6,7,8,9,10]\n",
    "# word_features = ['egg', 'cheese', 'sugar', 'pepper', 'tomato', 'milk', 'butter', 'basil', 'shrimp']\n",
    "word_features = ['dummy','egg','cheese', 'sugar', 'pepper', 'tomato', 'milk', 'butter', 'basil', 'shrimp']"
   ]
  },
  {
   "cell_type": "code",
   "execution_count": 25,
   "metadata": {},
   "outputs": [],
   "source": [
    "# r1 = ['eggs','cheese', 'sugar', 'pepper', 'tomatoes', 'milk', 'butter', 'basil', 'shrimp']\n",
    "# mpFeatures = document_features(word_features, r1)\n",
    "# print(mpFeatures)"
   ]
  },
  {
   "cell_type": "code",
   "execution_count": 26,
   "metadata": {},
   "outputs": [],
   "source": [
    "# X = [\n",
    "# [0., 0., 0., 0., 0., 0., 1., 1., 1.],\n",
    "# [0., 0., 0., 0., 0., 1., 1., 1., 1.],\n",
    "# [0., 0., 0., 0., 1., 1., 1., 1., 1.],\n",
    "# [0., 0., 0., 1., 1., 1., 1., 1., 1.],\n",
    "# [0., 0., 1., 1., 1., 1., 1., 1., 1.],\n",
    "# [0., 1., 1., 1., 1., 1., 1., 1., 1.],\n",
    "# ]\n",
    "# X = [\n",
    "# [0., 0., 0., 0., 1., 1., 1., 1.],\n",
    "# [0., 0., 0., 1., 1., 1., 1., 1.],\n",
    "# [0., 0., 1., 1., 1., 1., 1., 1.],\n",
    "# [0., 1., 1., 1., 1., 1., 1., 1.],\n",
    "# [1., 1., 1., 1., 1., 1., 1., 1.],\n",
    "# ]\n",
    "\n",
    "X = [\n",
    "[1., 1., 1., 1., 1., 1., 1., 1., 1., 1.],\n",
    "[0., 0., 0., 1., 1., 1., 1., 1., 1., 1.],\n",
    "[0., 0., 0., 0., 1., 1., 1., 1., 1., 1.],\n",
    "[0., 0., 0., 0., 0., 1., 1., 1., 1., 1.],\n",
    "[0., 0., 0., 0., 0., 0., 1., 1., 1., 1.],\n",
    "[0., 0., 0., 0., 0., 0., 0., 1., 1., 1.], \n",
    "[0., 0., 0., 0., 0., 0., 0., 0., 1., 1.],\n",
    "[0., 0., 0., 0., 0., 0., 0., 0., 1., 1.],\n",
    "[0., 0., 0., 0., 0., 0., 0., 0., 1., 1.],\n",
    "[0., 0., 0., 0., 0., 0., 0., 0., 1., 1.],\n",
    "]"
   ]
  },
  {
   "cell_type": "code",
   "execution_count": 27,
   "metadata": {},
   "outputs": [
    {
     "data": {
      "text/plain": [
       "SVC(C=20)"
      ]
     },
     "execution_count": 27,
     "metadata": {},
     "output_type": "execute_result"
    }
   ],
   "source": [
    "# train svm model\n",
    "model = svm.SVC(kernel='rbf', C=20)\n",
    "# scores = cross_val_score(model, X, y, cv=3)\n",
    "# print(scores)\n",
    "model.fit(X, y)"
   ]
  },
  {
   "cell_type": "code",
   "execution_count": 28,
   "metadata": {},
   "outputs": [
    {
     "data": {
      "text/plain": [
       "array([10])"
      ]
     },
     "execution_count": 28,
     "metadata": {},
     "output_type": "execute_result"
    }
   ],
   "source": [
    "# testing set\n",
    "# fridge1 = [[0., 1., 1., 1., 1., 1., 1., 1., 1.]]\n",
    "# fridge1 = [[1., 1., 1., 1., 1., 1., 1., 1., 1., 1.]]\n",
    "fridge1 = [[0., 0., 0., 0., 0., 0., 0., 0., 1., 1.]]\n",
    "model.predict(fridge1)"
   ]
  },
  {
   "cell_type": "code",
   "execution_count": 29,
   "metadata": {},
   "outputs": [
    {
     "name": "stdout",
     "output_type": "stream",
     "text": [
      "[[-0.28378035  0.71821243  1.72212836  2.73046231  3.75222051  4.86566036\n",
      "   9.28571429  8.28571429  7.28571429  6.28571429]]\n"
     ]
    }
   ],
   "source": [
    "prop = model.decision_function(fridge1) \n",
    "print(prop)"
   ]
  },
  {
   "cell_type": "code",
   "execution_count": 30,
   "metadata": {},
   "outputs": [
    {
     "name": "stdout",
     "output_type": "stream",
     "text": [
      "[[3 4 5 9 8 7 6]]\n"
     ]
    }
   ],
   "source": [
    "best_n = np.argsort(prop, axis=1)[:,-7:]\n",
    "print(best_n)    "
   ]
  },
  {
   "cell_type": "code",
   "execution_count": 31,
   "metadata": {
    "scrolled": true
   },
   "outputs": [],
   "source": [
    "# print(sklearn.__version__)\n",
    "# print(sklearn_pandas.__version__)\n",
    "# print(sklearn2pmml.__version__)\n",
    "# print(joblib.__version__)"
   ]
  },
  {
   "cell_type": "code",
   "execution_count": 32,
   "metadata": {},
   "outputs": [],
   "source": [
    "import pandas as pd\n",
    "# df = pandas.read_csv(\"iris.csv\")\n",
    "# df"
   ]
  },
  {
   "cell_type": "code",
   "execution_count": 33,
   "metadata": {},
   "outputs": [],
   "source": [
    "# iris_X = df[df.columns.difference([\"species\"])]\n",
    "# print(iris_X)\n",
    "# print(type(iris_X))"
   ]
  },
  {
   "cell_type": "code",
   "execution_count": 34,
   "metadata": {},
   "outputs": [],
   "source": [
    "# iris_y = df[\"species\"]\n",
    "# print(iris_y)"
   ]
  },
  {
   "cell_type": "code",
   "execution_count": null,
   "metadata": {},
   "outputs": [],
   "source": []
  },
  {
   "cell_type": "code",
   "execution_count": null,
   "metadata": {},
   "outputs": [],
   "source": []
  },
  {
   "cell_type": "code",
   "execution_count": null,
   "metadata": {},
   "outputs": [],
   "source": []
  },
  {
   "cell_type": "code",
   "execution_count": 35,
   "metadata": {},
   "outputs": [],
   "source": [
    "from sklearn_pandas import DataFrameMapper\n",
    "from sklearn.preprocessing import StandardScaler\n",
    "from sklearn2pmml.decoration import ContinuousDomain"
   ]
  },
  {
   "cell_type": "code",
   "execution_count": 36,
   "metadata": {},
   "outputs": [
    {
     "data": {
      "text/html": [
       "<div>\n",
       "<style scoped>\n",
       "    .dataframe tbody tr th:only-of-type {\n",
       "        vertical-align: middle;\n",
       "    }\n",
       "\n",
       "    .dataframe tbody tr th {\n",
       "        vertical-align: top;\n",
       "    }\n",
       "\n",
       "    .dataframe thead th {\n",
       "        text-align: right;\n",
       "    }\n",
       "</style>\n",
       "<table border=\"1\" class=\"dataframe\">\n",
       "  <thead>\n",
       "    <tr style=\"text-align: right;\">\n",
       "      <th></th>\n",
       "      <th>dummy</th>\n",
       "      <th>egg</th>\n",
       "      <th>cheese</th>\n",
       "      <th>sugar</th>\n",
       "      <th>pepper</th>\n",
       "      <th>tomato</th>\n",
       "      <th>milk</th>\n",
       "      <th>butter</th>\n",
       "      <th>basil</th>\n",
       "      <th>shrimp</th>\n",
       "    </tr>\n",
       "  </thead>\n",
       "  <tbody>\n",
       "    <tr>\n",
       "      <th>0</th>\n",
       "      <td>1</td>\n",
       "      <td>1</td>\n",
       "      <td>1</td>\n",
       "      <td>1</td>\n",
       "      <td>1</td>\n",
       "      <td>1</td>\n",
       "      <td>1</td>\n",
       "      <td>1</td>\n",
       "      <td>1</td>\n",
       "      <td>1</td>\n",
       "    </tr>\n",
       "    <tr>\n",
       "      <th>1</th>\n",
       "      <td>0</td>\n",
       "      <td>0</td>\n",
       "      <td>0</td>\n",
       "      <td>1</td>\n",
       "      <td>1</td>\n",
       "      <td>1</td>\n",
       "      <td>1</td>\n",
       "      <td>1</td>\n",
       "      <td>1</td>\n",
       "      <td>1</td>\n",
       "    </tr>\n",
       "    <tr>\n",
       "      <th>2</th>\n",
       "      <td>0</td>\n",
       "      <td>0</td>\n",
       "      <td>0</td>\n",
       "      <td>0</td>\n",
       "      <td>1</td>\n",
       "      <td>1</td>\n",
       "      <td>1</td>\n",
       "      <td>1</td>\n",
       "      <td>1</td>\n",
       "      <td>1</td>\n",
       "    </tr>\n",
       "    <tr>\n",
       "      <th>3</th>\n",
       "      <td>0</td>\n",
       "      <td>0</td>\n",
       "      <td>0</td>\n",
       "      <td>0</td>\n",
       "      <td>0</td>\n",
       "      <td>1</td>\n",
       "      <td>1</td>\n",
       "      <td>1</td>\n",
       "      <td>1</td>\n",
       "      <td>1</td>\n",
       "    </tr>\n",
       "    <tr>\n",
       "      <th>4</th>\n",
       "      <td>0</td>\n",
       "      <td>0</td>\n",
       "      <td>0</td>\n",
       "      <td>0</td>\n",
       "      <td>0</td>\n",
       "      <td>0</td>\n",
       "      <td>1</td>\n",
       "      <td>1</td>\n",
       "      <td>1</td>\n",
       "      <td>1</td>\n",
       "    </tr>\n",
       "    <tr>\n",
       "      <th>5</th>\n",
       "      <td>0</td>\n",
       "      <td>0</td>\n",
       "      <td>0</td>\n",
       "      <td>0</td>\n",
       "      <td>0</td>\n",
       "      <td>0</td>\n",
       "      <td>0</td>\n",
       "      <td>1</td>\n",
       "      <td>1</td>\n",
       "      <td>1</td>\n",
       "    </tr>\n",
       "    <tr>\n",
       "      <th>6</th>\n",
       "      <td>0</td>\n",
       "      <td>0</td>\n",
       "      <td>0</td>\n",
       "      <td>0</td>\n",
       "      <td>0</td>\n",
       "      <td>0</td>\n",
       "      <td>0</td>\n",
       "      <td>0</td>\n",
       "      <td>1</td>\n",
       "      <td>1</td>\n",
       "    </tr>\n",
       "    <tr>\n",
       "      <th>7</th>\n",
       "      <td>0</td>\n",
       "      <td>0</td>\n",
       "      <td>0</td>\n",
       "      <td>0</td>\n",
       "      <td>0</td>\n",
       "      <td>0</td>\n",
       "      <td>0</td>\n",
       "      <td>0</td>\n",
       "      <td>1</td>\n",
       "      <td>1</td>\n",
       "    </tr>\n",
       "    <tr>\n",
       "      <th>8</th>\n",
       "      <td>0</td>\n",
       "      <td>0</td>\n",
       "      <td>0</td>\n",
       "      <td>0</td>\n",
       "      <td>0</td>\n",
       "      <td>0</td>\n",
       "      <td>0</td>\n",
       "      <td>0</td>\n",
       "      <td>1</td>\n",
       "      <td>1</td>\n",
       "    </tr>\n",
       "    <tr>\n",
       "      <th>9</th>\n",
       "      <td>0</td>\n",
       "      <td>0</td>\n",
       "      <td>0</td>\n",
       "      <td>0</td>\n",
       "      <td>0</td>\n",
       "      <td>0</td>\n",
       "      <td>0</td>\n",
       "      <td>0</td>\n",
       "      <td>1</td>\n",
       "      <td>1</td>\n",
       "    </tr>\n",
       "  </tbody>\n",
       "</table>\n",
       "</div>"
      ],
      "text/plain": [
       "   dummy  egg  cheese  sugar  pepper  tomato  milk  butter  basil  shrimp\n",
       "0      1    1       1      1       1       1     1       1      1       1\n",
       "1      0    0       0      1       1       1     1       1      1       1\n",
       "2      0    0       0      0       1       1     1       1      1       1\n",
       "3      0    0       0      0       0       1     1       1      1       1\n",
       "4      0    0       0      0       0       0     1       1      1       1\n",
       "5      0    0       0      0       0       0     0       1      1       1\n",
       "6      0    0       0      0       0       0     0       0      1       1\n",
       "7      0    0       0      0       0       0     0       0      1       1\n",
       "8      0    0       0      0       0       0     0       0      1       1\n",
       "9      0    0       0      0       0       0     0       0      1       1"
      ]
     },
     "execution_count": 36,
     "metadata": {},
     "output_type": "execute_result"
    }
   ],
   "source": [
    "df_X = pd.DataFrame(X, columns=word_features, dtype='int32')\n",
    "df_X"
   ]
  },
  {
   "cell_type": "code",
   "execution_count": 37,
   "metadata": {},
   "outputs": [
    {
     "data": {
      "text/html": [
       "<div>\n",
       "<style scoped>\n",
       "    .dataframe tbody tr th:only-of-type {\n",
       "        vertical-align: middle;\n",
       "    }\n",
       "\n",
       "    .dataframe tbody tr th {\n",
       "        vertical-align: top;\n",
       "    }\n",
       "\n",
       "    .dataframe thead th {\n",
       "        text-align: right;\n",
       "    }\n",
       "</style>\n",
       "<table border=\"1\" class=\"dataframe\">\n",
       "  <thead>\n",
       "    <tr style=\"text-align: right;\">\n",
       "      <th></th>\n",
       "      <th>item_id</th>\n",
       "    </tr>\n",
       "  </thead>\n",
       "  <tbody>\n",
       "    <tr>\n",
       "      <th>0</th>\n",
       "      <td>1</td>\n",
       "    </tr>\n",
       "    <tr>\n",
       "      <th>1</th>\n",
       "      <td>2</td>\n",
       "    </tr>\n",
       "    <tr>\n",
       "      <th>2</th>\n",
       "      <td>3</td>\n",
       "    </tr>\n",
       "    <tr>\n",
       "      <th>3</th>\n",
       "      <td>4</td>\n",
       "    </tr>\n",
       "    <tr>\n",
       "      <th>4</th>\n",
       "      <td>5</td>\n",
       "    </tr>\n",
       "    <tr>\n",
       "      <th>5</th>\n",
       "      <td>6</td>\n",
       "    </tr>\n",
       "    <tr>\n",
       "      <th>6</th>\n",
       "      <td>7</td>\n",
       "    </tr>\n",
       "    <tr>\n",
       "      <th>7</th>\n",
       "      <td>8</td>\n",
       "    </tr>\n",
       "    <tr>\n",
       "      <th>8</th>\n",
       "      <td>9</td>\n",
       "    </tr>\n",
       "    <tr>\n",
       "      <th>9</th>\n",
       "      <td>10</td>\n",
       "    </tr>\n",
       "  </tbody>\n",
       "</table>\n",
       "</div>"
      ],
      "text/plain": [
       "   item_id\n",
       "0        1\n",
       "1        2\n",
       "2        3\n",
       "3        4\n",
       "4        5\n",
       "5        6\n",
       "6        7\n",
       "7        8\n",
       "8        9\n",
       "9       10"
      ]
     },
     "execution_count": 37,
     "metadata": {},
     "output_type": "execute_result"
    }
   ],
   "source": [
    "df_y = pd.DataFrame (y,columns=['item_id'])\n",
    "df_y"
   ]
  },
  {
   "cell_type": "code",
   "execution_count": 38,
   "metadata": {},
   "outputs": [
    {
     "name": "stderr",
     "output_type": "stream",
     "text": [
      "/usr/local/lib/python3.7/site-packages/sklearn/base.py:213: FutureWarning: From version 0.24, get_params will raise an AttributeError if a parameter cannot be retrieved as an instance attribute. Previously it would return None.\n",
      "  FutureWarning)\n"
     ]
    }
   ],
   "source": [
    "from sklearn2pmml.pipeline import PMMLPipeline\n",
    "pipeline = PMMLPipeline([\n",
    "    (\"classifier\", model)\n",
    "])"
   ]
  },
  {
   "cell_type": "code",
   "execution_count": 39,
   "metadata": {},
   "outputs": [
    {
     "data": {
      "text/plain": [
       "PMMLPipeline(steps=[('classifier', SVC(C=20))])"
      ]
     },
     "execution_count": 39,
     "metadata": {},
     "output_type": "execute_result"
    }
   ],
   "source": [
    "pipeline.fit(df_X, df_y.values.ravel())"
   ]
  },
  {
   "cell_type": "code",
   "execution_count": 40,
   "metadata": {},
   "outputs": [],
   "source": [
    "from sklearn2pmml import sklearn2pmml\n",
    "sklearn2pmml(pipeline, \"svm.pmml\",with_repr= True)"
   ]
  },
  {
   "cell_type": "code",
   "execution_count": null,
   "metadata": {},
   "outputs": [],
   "source": []
  },
  {
   "cell_type": "code",
   "execution_count": null,
   "metadata": {},
   "outputs": [],
   "source": []
  },
  {
   "cell_type": "code",
   "execution_count": null,
   "metadata": {},
   "outputs": [],
   "source": []
  },
  {
   "cell_type": "code",
   "execution_count": null,
   "metadata": {},
   "outputs": [],
   "source": []
  }
 ],
 "metadata": {
  "kernelspec": {
   "display_name": "Python 3",
   "language": "python",
   "name": "python3"
  },
  "language_info": {
   "codemirror_mode": {
    "name": "ipython",
    "version": 3
   },
   "file_extension": ".py",
   "mimetype": "text/x-python",
   "name": "python",
   "nbconvert_exporter": "python",
   "pygments_lexer": "ipython3",
   "version": "3.7.7"
  }
 },
 "nbformat": 4,
 "nbformat_minor": 4
}
